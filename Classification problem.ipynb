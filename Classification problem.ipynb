{
 "cells": [
  {
   "cell_type": "code",
   "execution_count": 23,
   "id": "2a2b4a83-5ccb-4d44-94f0-66ca6a7b2469",
   "metadata": {},
   "outputs": [],
   "source": [
    "# Import required libraries\n",
    "import numpy as np\n",
    "import pandas as pd\n",
    "from sklearn.datasets import load_breast_cancer\n"
   ]
  },
  {
   "cell_type": "code",
   "execution_count": 33,
   "id": "ad930079-8f7f-4d7c-a148-82bb37eab71e",
   "metadata": {},
   "outputs": [],
   "source": [
    "# 1. Loading and Preprocessing\n",
    "# Load the dataset\n",
    " #Load the dataset\n",
    "data = load_breast_cancer()\n",
    "df = pd.DataFrame(data.data, columns=data.feature_names)\n",
    "df['target'] = data.target"
   ]
  },
  {
   "cell_type": "code",
   "execution_count": 27,
   "id": "fbb1099c-f01f-4cf0-bc79-5bd1cdef5ee9",
   "metadata": {},
   "outputs": [],
   "source": [
    "\n",
    "from sklearn.model_selection import train_test_split\n",
    "from sklearn.preprocessing import StandardScaler\n",
    "from sklearn.linear_model import LogisticRegression\n",
    "from sklearn.tree import DecisionTreeClassifier\n",
    "from sklearn.ensemble import RandomForestClassifier\n",
    "from sklearn.svm import SVC\n",
    "from sklearn.neighbors import KNeighborsClassifier\n",
    "from sklearn.metrics import accuracy_score, classification_report"
   ]
  },
  {
   "cell_type": "code",
   "execution_count": 35,
   "id": "a805c2fa-81e4-4a72-985f-2c489b229961",
   "metadata": {},
   "outputs": [
    {
     "name": "stdout",
     "output_type": "stream",
     "text": [
      "No missing values in the dataset.\n"
     ]
    }
   ],
   "source": [
    "# Check for missing values\n",
    "if X.isnull().sum().sum() == 0:\n",
    "    print(\"No missing values in the dataset.\")\n",
    "    df.fillna(df.mean(), inplace=True)\n"
   ]
  },
  {
   "cell_type": "code",
   "execution_count": 37,
   "id": "3640a9e3-f7f9-48c5-aae0-c6ca6a3b0849",
   "metadata": {},
   "outputs": [],
   "source": [
    "# Feature scaling\n",
    "scaler = StandardScaler()\n",
    "df_scaled = scaler.fit_transform(df.drop(columns=['target']))\n"
   ]
  },
  {
   "cell_type": "code",
   "execution_count": 39,
   "id": "7742e343-e810-4ecf-bbea-3559c08b12c9",
   "metadata": {},
   "outputs": [],
   "source": [
    "# Train-test split\n",
    "X_train, X_test, y_train, y_test = train_test_split(df_scaled, df['target'], test_size=0.2, random_state=42)"
   ]
  },
  {
   "cell_type": "code",
   "execution_count": 49,
   "id": "d51190d2-eb9f-4630-addd-c46f34d91bf3",
   "metadata": {},
   "outputs": [
    {
     "name": "stdout",
     "output_type": "stream",
     "text": [
      "Logistic Regression:\n",
      "Accuracy = 0.97\n",
      "              precision    recall  f1-score   support\n",
      "\n",
      "           0       0.98      0.95      0.96        43\n",
      "           1       0.97      0.99      0.98        71\n",
      "\n",
      "    accuracy                           0.97       114\n",
      "   macro avg       0.97      0.97      0.97       114\n",
      "weighted avg       0.97      0.97      0.97       114\n",
      "\n",
      "----------------------------------------\n"
     ]
    }
   ],
   "source": [
    "\n",
    "# Classification Algorithm Implementation\n",
    "# 2.1 Logistic Regression\n",
    "logistic_regression = LogisticRegression()\n",
    "logistic_regression.fit(X_train, y_train)\n",
    "y_pred_lr = logistic_regression.predict(X_test)\n",
    "accuracy_lr = accuracy_score(y_test, y_pred_lr)\n",
    "print(\"Logistic Regression:\")\n",
    "print(f\"Accuracy = {accuracy_lr:.2f}\")\n",
    "print(classification_report(y_test, y_pred_lr))\n",
    "print(\"-\" * 40)\n",
    "\n"
   ]
  },
  {
   "cell_type": "code",
   "execution_count": 51,
   "id": "8cc93d48-2efd-48ab-904f-aa7469b3ca3e",
   "metadata": {},
   "outputs": [
    {
     "name": "stdout",
     "output_type": "stream",
     "text": [
      "Decision Tree Classifier:\n",
      "Accuracy = 0.95\n",
      "              precision    recall  f1-score   support\n",
      "\n",
      "           0       0.93      0.93      0.93        43\n",
      "           1       0.96      0.96      0.96        71\n",
      "\n",
      "    accuracy                           0.95       114\n",
      "   macro avg       0.94      0.94      0.94       114\n",
      "weighted avg       0.95      0.95      0.95       114\n",
      "\n",
      "----------------------------------------\n"
     ]
    }
   ],
   "source": [
    "#2.2 Decision Tree Classifier\n",
    "decision_tree = DecisionTreeClassifier(random_state=42)\n",
    "decision_tree.fit(X_train, y_train)\n",
    "y_pred_dt = decision_tree.predict(X_test)\n",
    "accuracy_dt = accuracy_score(y_test, y_pred_dt)\n",
    "print(\"Decision Tree Classifier:\")\n",
    "print(f\"Accuracy = {accuracy_dt:.2f}\")\n",
    "print(classification_report(y_test, y_pred_dt))\n",
    "print(\"-\" * 40)"
   ]
  },
  {
   "cell_type": "code",
   "execution_count": 53,
   "id": "1b3d6939-ddde-413e-960a-c84a66a5860d",
   "metadata": {},
   "outputs": [
    {
     "name": "stdout",
     "output_type": "stream",
     "text": [
      "Random Forest Classifier:\n",
      "Accuracy = 0.96\n",
      "              precision    recall  f1-score   support\n",
      "\n",
      "           0       0.98      0.93      0.95        43\n",
      "           1       0.96      0.99      0.97        71\n",
      "\n",
      "    accuracy                           0.96       114\n",
      "   macro avg       0.97      0.96      0.96       114\n",
      "weighted avg       0.97      0.96      0.96       114\n",
      "\n",
      "----------------------------------------\n"
     ]
    }
   ],
   "source": [
    "# 2.3 Random Forest Classifier\n",
    "random_forest = RandomForestClassifier(random_state=42)\n",
    "random_forest.fit(X_train, y_train)\n",
    "y_pred_rf = random_forest.predict(X_test)\n",
    "accuracy_rf = accuracy_score(y_test, y_pred_rf)\n",
    "print(\"Random Forest Classifier:\")\n",
    "print(f\"Accuracy = {accuracy_rf:.2f}\")\n",
    "print(classification_report(y_test, y_pred_rf))\n",
    "print(\"-\" * 40)"
   ]
  },
  {
   "cell_type": "code",
   "execution_count": 55,
   "id": "3bb052f0-c906-42e8-959d-5a4586f37ba2",
   "metadata": {},
   "outputs": [
    {
     "name": "stdout",
     "output_type": "stream",
     "text": [
      "Support Vector Machine (SVM):\n",
      "Accuracy = 0.97\n",
      "              precision    recall  f1-score   support\n",
      "\n",
      "           0       0.98      0.95      0.96        43\n",
      "           1       0.97      0.99      0.98        71\n",
      "\n",
      "    accuracy                           0.97       114\n",
      "   macro avg       0.97      0.97      0.97       114\n",
      "weighted avg       0.97      0.97      0.97       114\n",
      "\n",
      "----------------------------------------\n"
     ]
    }
   ],
   "source": [
    "# 2.4 Support Vector Machine (SVM)\n",
    "svm = SVC()\n",
    "svm.fit(X_train, y_train)\n",
    "y_pred_svm = svm.predict(X_test)\n",
    "accuracy_svm = accuracy_score(y_test, y_pred_svm)\n",
    "print(\"Support Vector Machine (SVM):\")\n",
    "print(f\"Accuracy = {accuracy_svm:.2f}\")\n",
    "print(classification_report(y_test, y_pred_svm))\n",
    "print(\"-\" * 40)"
   ]
  },
  {
   "cell_type": "code",
   "execution_count": 57,
   "id": "945331d5-ff88-4fc1-929a-6ad66595d848",
   "metadata": {},
   "outputs": [
    {
     "name": "stdout",
     "output_type": "stream",
     "text": [
      "k-Nearest Neighbors (k-NN):\n",
      "Accuracy = 0.95\n",
      "              precision    recall  f1-score   support\n",
      "\n",
      "           0       0.93      0.93      0.93        43\n",
      "           1       0.96      0.96      0.96        71\n",
      "\n",
      "    accuracy                           0.95       114\n",
      "   macro avg       0.94      0.94      0.94       114\n",
      "weighted avg       0.95      0.95      0.95       114\n",
      "\n",
      "----------------------------------------\n"
     ]
    }
   ],
   "source": [
    "#2.5 k-Nearest Neighbors (k-NN)\n",
    "k_nn = KNeighborsClassifier()\n",
    "k_nn.fit(X_train, y_train)\n",
    "y_pred_knn = k_nn.predict(X_test)\n",
    "accuracy_knn = accuracy_score(y_test, y_pred_knn)\n",
    "print(\"k-Nearest Neighbors (k-NN):\")\n",
    "print(f\"Accuracy = {accuracy_knn:.2f}\")\n",
    "print(classification_report(y_test, y_pred_knn))\n",
    "print(\"-\" * 40)"
   ]
  },
  {
   "cell_type": "code",
   "execution_count": 59,
   "id": "6bb50c19-8434-4e1a-87ed-3424e2386459",
   "metadata": {},
   "outputs": [
    {
     "name": "stdout",
     "output_type": "stream",
     "text": [
      "Model Performance Comparison:\n",
      "                     Accuracy\n",
      "Logistic Regression  0.973684\n",
      "SVM                  0.973684\n",
      "Random Forest        0.964912\n",
      "Decision Tree        0.947368\n",
      "k-NN                 0.947368\n"
     ]
    }
   ],
   "source": [
    "# Model Comparison\n",
    "results = {\n",
    "    \"Logistic Regression\": accuracy_lr,\n",
    "    \"Decision Tree\": accuracy_dt,\n",
    "    \"Random Forest\": accuracy_rf,\n",
    "    \"SVM\": accuracy_svm,\n",
    "    \"k-NN\": accuracy_knn\n",
    "}\n",
    "\n",
    "results_df = pd.DataFrame.from_dict(results, orient='index', columns=['Accuracy'])\n",
    "print(\"Model Performance Comparison:\")\n",
    "print(results_df.sort_values(by='Accuracy', ascending=False))\n"
   ]
  },
  {
   "cell_type": "code",
   "execution_count": 61,
   "id": "dd61bc8b-05af-41fb-9e18-0db9f5bf7469",
   "metadata": {},
   "outputs": [
    {
     "name": "stdout",
     "output_type": "stream",
     "text": [
      "Best performing model: Logistic Regression with accuracy 0.97\n",
      "Worst performing model: Decision Tree with accuracy 0.95\n"
     ]
    }
   ],
   "source": [
    "# Identify the best and worst models\n",
    "best_model = results_df['Accuracy'].idxmax()\n",
    "worst_model = results_df['Accuracy'].idxmin()\n",
    "\n",
    "print(f\"Best performing model: {best_model} with accuracy {results_df.loc[best_model, 'Accuracy']:.2f}\")\n",
    "print(f\"Worst performing model: {worst_model} with accuracy {results_df.loc[worst_model, 'Accuracy']:.2f}\")\n"
   ]
  },
  {
   "cell_type": "code",
   "execution_count": null,
   "id": "dab9b5b5-8305-4c58-91e5-cf4f5753f273",
   "metadata": {},
   "outputs": [],
   "source": []
  }
 ],
 "metadata": {
  "kernelspec": {
   "display_name": "Python 3 (ipykernel)",
   "language": "python",
   "name": "python3"
  },
  "language_info": {
   "codemirror_mode": {
    "name": "ipython",
    "version": 3
   },
   "file_extension": ".py",
   "mimetype": "text/x-python",
   "name": "python",
   "nbconvert_exporter": "python",
   "pygments_lexer": "ipython3",
   "version": "3.12.4"
  }
 },
 "nbformat": 4,
 "nbformat_minor": 5
}
